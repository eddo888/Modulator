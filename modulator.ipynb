{
 "cells": [
  {
   "cell_type": "code",
   "execution_count": 4,
   "id": "ec6d028b-9e92-4d6d-95e5-9c62e80d013a",
   "metadata": {
    "tags": []
   },
   "outputs": [
    {
     "name": "stderr",
     "output_type": "stream",
     "text": [
      "\u001b[33m[\u001b[36m2023-10-03 14:01:06 \u001b[32mINFO\u001b[36m Warbeler\u001b[33m] \u001b[0m\u001b[0msing\u001b[0m(\u001b[32m<Modulated.Warbeler.Warbeler object at 0x000001C49785BBB0>\u001b[0m, \u001b[32mfiles\u001b[0m=\u001b[35m['.git', '.gitignore', '.ipynb_checkpoints', 'bin', 'LICENSE.txt', 'Modulated', 'modulator.ipynb', 'README.md', 'setup.cfg', 'setup.py', 'test']\u001b[0m): \u001b[33m['.git', '.gitignore', '.ipynb_checkpoints', 'bin', 'LICENSE.txt', 'Modulated', 'modulator.ipynb', 'README.md', 'setup.cfg', 'setup.py', 'test']\u001b[0m\n"
     ]
    },
    {
     "name": "stdout",
     "output_type": "stream",
     "text": [
      "\u001b[34m.git\u001b[0m\n",
      "\u001b[33m.gitignore\u001b[0m\n",
      "\u001b[34m.ipynb_checkpoints\u001b[0m\n",
      "\u001b[34mbin\u001b[0m\n",
      "\u001b[33mLICENSE.txt\u001b[0m\n",
      "\u001b[34mModulated\u001b[0m\n",
      "\u001b[33mmodulator.ipynb\u001b[0m\n",
      "\u001b[33mREADME.md\u001b[0m\n",
      "\u001b[33msetup.cfg\u001b[0m\n",
      "\u001b[33msetup.py\u001b[0m\n",
      "\u001b[34mtest\u001b[0m\n"
     ]
    }
   ],
   "source": [
    "import io, sys, os, logging\n",
    "\n",
    "sys.path.insert(0, '.')\n",
    "\t\n",
    "from Modulated.Warbeler import Warbeler, logger\n",
    "\n",
    "logger.setLevel(logging.INFO)\n",
    "\n",
    "warbler = Warbeler(colour=True)\n",
    "files = os.listdir()\n",
    "result = warbler.sing(files=files)\n",
    "\n",
    "assert files == result"
   ]
  },
  {
   "cell_type": "code",
   "execution_count": null,
   "id": "6e64c3bb-90a2-40e3-b9a7-dbbdd1bff6e5",
   "metadata": {},
   "outputs": [],
   "source": []
  }
 ],
 "metadata": {
  "kernelspec": {
   "display_name": "Python 3 (ipykernel)",
   "language": "python",
   "name": "python3"
  },
  "language_info": {
   "codemirror_mode": {
    "name": "ipython",
    "version": 3
   },
   "file_extension": ".py",
   "mimetype": "text/x-python",
   "name": "python",
   "nbconvert_exporter": "python",
   "pygments_lexer": "ipython3",
   "version": "3.10.10"
  },
  "widgets": {
   "application/vnd.jupyter.widget-state+json": {
    "state": {},
    "version_major": 2,
    "version_minor": 0
   }
  }
 },
 "nbformat": 4,
 "nbformat_minor": 5
}
